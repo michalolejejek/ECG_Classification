{
 "cells": [
  {
   "cell_type": "code",
   "execution_count": 76,
   "metadata": {},
   "outputs": [],
   "source": [
    "import pandas as pd\n",
    "import matplotlib.pyplot as plt\n",
    "import numpy as np\n",
    "from tensorflow.keras.utils import to_categorical\n",
    "from tensorflow.keras.models import Sequential\n",
    "from tensorflow.keras.layers import Dense, Dropout, Flatten, Conv2D, MaxPooling2D\n",
    "\n",
    "train_df = pd.read_pickle(\"train.pkl\")\n",
    "test_df = pd.read_pickle(\"test.pkl\")\n",
    "data_number = 187 #length of one entry\n"
   ]
  },
  {
   "cell_type": "code",
   "execution_count": 110,
   "metadata": {},
   "outputs": [
    {
     "name": "stdout",
     "output_type": "stream",
     "text": [
      "(21892, 188)\n",
      "(21892, 187)\n",
      "(21892, 1)\n"
     ]
    }
   ],
   "source": [
    "x_train = train_df.iloc[:, :data_number]\n",
    "y_train = train_df.iloc[:, data_number:]\n",
    "\n",
    "x_test = test_df.iloc[:, :data_number]\n",
    "y_test = test_df.iloc[:, data_number:]\n",
    "x_train = x_train.to_numpy()\n",
    "y_train = y_train.to_numpy()\n",
    "x_test = x_test.to_numpy()\n",
    "y_test = y_test.to_numpy()\n",
    "print(test_df.shape)\n",
    "print(x_test.shape)\n",
    "print(y_test.shape)"
   ]
  },
  {
   "cell_type": "code",
   "execution_count": 111,
   "metadata": {},
   "outputs": [
    {
     "name": "stdout",
     "output_type": "stream",
     "text": [
      "(21892, 1)\n",
      "(21892, 1, 187, 1)\n",
      "(21892, 5)\n"
     ]
    }
   ],
   "source": [
    "x_train = x_train.reshape(x_train.shape[0], 1, data_number, 1)\n",
    "x_test = x_test.reshape(x_test.shape[0], 1, data_number, 1)\n",
    "print(y_test.shape)\n",
    "y_train = to_categorical(y_train, 5)\n",
    "y_test = to_categorical(y_test, 5)\n",
    "print(x_test.shape)\n",
    "print(y_test.shape)"
   ]
  },
  {
   "cell_type": "raw",
   "metadata": {},
   "source": [
    "model_try_1 = Sequential()\n",
    "model_try_1.add(Conv2D(32, kernel_size=(1, 3),\n",
    "     activation='relu',\n",
    "     input_shape=(1, data_number, 1)))\n",
    "#layers\n",
    "model_try_1.add(Flatten())\n",
    "model_try_1.add(Dense(50, activation = \"relu\"))\n",
    "model_try_1.add(Dense(5, activation=\"softmax\"))\n",
    "model_try_1.compile(loss='categorical_crossentropy',\n",
    "      optimizer='adam',\n",
    "      metrics=['accuracy'])\n",
    "print(x_train.shape)\n",
    "print(y_train.shape)\n",
    "print(x_test.shape)\n",
    "print(y_test.shape)"
   ]
  },
  {
   "cell_type": "code",
   "execution_count": 112,
   "metadata": {},
   "outputs": [
    {
     "name": "stdout",
     "output_type": "stream",
     "text": [
      "Epoch 1/5\n",
      "87554/87554 [==============================] - 299s 3ms/step - loss: 0.1887 - accuracy: 0.9486 - val_loss: 0.1485 - val_accuracy: 0.9604\n",
      "Epoch 2/5\n",
      "87554/87554 [==============================] - 345s 4ms/step - loss: 0.1312 - accuracy: 0.9652 - val_loss: 0.1376 - val_accuracy: 0.9646\n",
      "Epoch 3/5\n",
      "87554/87554 [==============================] - 358s 4ms/step - loss: 0.1198 - accuracy: 0.9682 - val_loss: 0.1202 - val_accuracy: 0.9691\n",
      "Epoch 4/5\n",
      "87554/87554 [==============================] - 363s 4ms/step - loss: 0.1112 - accuracy: 0.9710 - val_loss: 0.1191 - val_accuracy: 0.9713\n",
      "Epoch 5/5\n",
      "87554/87554 [==============================] - 319s 4ms/step - loss: 0.1105 - accuracy: 0.9718 - val_loss: 0.1255 - val_accuracy: 0.9698\n"
     ]
    },
    {
     "data": {
      "text/plain": [
       "<tensorflow.python.keras.callbacks.History at 0x2c8a3faf608>"
      ]
     },
     "execution_count": 112,
     "metadata": {},
     "output_type": "execute_result"
    }
   ],
   "source": [
    "\n",
    "batch_size = 1\n",
    "n_epochs = 5\n",
    "model_try_1.fit(x_train, y_train, batch_size=batch_size,\n",
    "          epochs=n_epochs,\n",
    "          verbose=1,\n",
    "          validation_data=(x_test, y_test))"
   ]
  },
  {
   "cell_type": "code",
   "execution_count": null,
   "metadata": {},
   "outputs": [],
   "source": []
  }
 ],
 "metadata": {
  "kernelspec": {
   "display_name": "Python 3",
   "language": "python",
   "name": "python3"
  },
  "language_info": {
   "codemirror_mode": {
    "name": "ipython",
    "version": 3
   },
   "file_extension": ".py",
   "mimetype": "text/x-python",
   "name": "python",
   "nbconvert_exporter": "python",
   "pygments_lexer": "ipython3",
   "version": "3.7.4"
  }
 },
 "nbformat": 4,
 "nbformat_minor": 2
}
